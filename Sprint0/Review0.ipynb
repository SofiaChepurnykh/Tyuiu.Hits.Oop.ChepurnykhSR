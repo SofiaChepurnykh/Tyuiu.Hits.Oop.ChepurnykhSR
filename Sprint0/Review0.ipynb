{
 "cells": [
  {
   "cell_type": "code",
   "execution_count": 1,
   "metadata": {
    "dotnet_interactive": {
     "language": "csharp"
    },
    "polyglot_notebook": {
     "kernelName": "csharp"
    },
    "vscode": {
     "languageId": "polyglot-notebook"
    }
   },
   "outputs": [
    {
     "name": "stdout",
     "output_type": "stream",
     "text": [
      "Тип растения: Дерево, Название растения: Дуб, Высота растения: 50 см, Возраст растения: 30, Тип листьев: Хвойнные\n",
      "Дерево распустил листочки!\n",
      "Дуб вырос на 1 см. Актуальная высота растения: 51 см.\n"
     ]
    }
   ],
   "source": [
    "public class Plant\n",
    "{\n",
    "    public string Name { get; set; } \n",
    "    public string Type { get; set; } \n",
    "    public float Height { get; set; } \n",
    "\n",
    "    public Plant (string name, string type, float height)\n",
    "    {\n",
    "        Name = name;\n",
    "        Type = type;\n",
    "        Height = height;\n",
    "    }\n",
    "\n",
    "    public virtual void Info()\n",
    "    {\n",
    "        Console.WriteLine($\"Тип растения: {Type}, Название растения: {Name}, Высота растения: {Height} см.\");\n",
    "    }\n",
    "\n",
    "    public virtual void Bloom()\n",
    "    {\n",
    "        Console.WriteLine($\"{Type} растет!\");\n",
    "    }\n",
    "\n",
    "    public virtual void Grow(float growth)\n",
    "    {\n",
    "        if (growth > 0)\n",
    "        {\n",
    "            Height += growth;\n",
    "            Console.WriteLine($\"{Name} вырос на {growth} см. Актуальная высота растения: {Height} см.\");\n",
    "        }\n",
    "    }\n",
    "\n",
    "}\n",
    "\n",
    "public class Tree : Plant\n",
    "{\n",
    "    public int Age { get; set; }\n",
    "    public string TypeLeaf { get; set; }\n",
    "\n",
    "    public Tree (string name, string type, float height, int age, string typeleaf)\n",
    "        : base (name, type, height)\n",
    "    {\n",
    "        Age = age;\n",
    "        TypeLeaf = typeleaf;\n",
    "    }\n",
    "\n",
    "    public override void Info()\n",
    "    {\n",
    "        Console.WriteLine($\"Тип растения: {Type}, Название растения: {Name}, Высота растения: {Height} см, Возраст растения: {Age}, Тип листьев: {TypeLeaf}\");\n",
    "    }\n",
    "\n",
    "    public override void Bloom()\n",
    "    {\n",
    "        Console.WriteLine($\"{Type} распустил листочки!\");\n",
    "    }\n",
    "}\n",
    "\n",
    "Tree tree = new Tree(\"Дуб\", \"Дерево\", 50, 30, \"Хвойнные\");\n",
    "tree.Info();\n",
    "tree.Bloom();\n",
    "tree.Grow(1);"
   ]
  }
 ],
 "metadata": {
  "kernelspec": {
   "display_name": ".NET (C#)",
   "language": "C#",
   "name": ".net-csharp"
  },
  "language_info": {
   "name": "python"
  },
  "polyglot_notebook": {
   "kernelInfo": {
    "defaultKernelName": "csharp",
    "items": [
     {
      "aliases": [],
      "name": "csharp"
     }
    ]
   }
  }
 },
 "nbformat": 4,
 "nbformat_minor": 2
}

{
 "cells": [
  {
   "cell_type": "code",
   "execution_count": 10,
   "metadata": {
    "dotnet_interactive": {
     "language": "csharp"
    },
    "polyglot_notebook": {
     "kernelName": "csharp"
    },
    "vscode": {
     "languageId": "polyglot-notebook"
    }
   },
   "outputs": [
    {
     "name": "stdout",
     "output_type": "stream",
     "text": [
      "Тип растения: Комнатный цветок, Название растения: Алоэ, Высота растения: 10 см.\n",
      "Комнатный цветок растет!\n",
      "Алоэ вырос на 1 см. Актуальная высота растения: 11 см.\n"
     ]
    }
   ],
   "source": [
    "using System;\n",
    "\n",
    "public class Plant\n",
    "{\n",
    "    public string Name { get; set; } \n",
    "    public string Type { get; set; } \n",
    "    public float Height { get; set; } \n",
    "\n",
    "    public Plant (string name, string type, float height)\n",
    "    {\n",
    "        Name = name;\n",
    "        Type = type;\n",
    "        Height = height;\n",
    "    }\n",
    "\n",
    "    public virtual void Info()\n",
    "    {\n",
    "        Console.WriteLine($\"Тип растения: {Type}, Название растения: {Name}, Высота растения: {Height} см.\");\n",
    "    }\n",
    "\n",
    "    public virtual void Bloom()\n",
    "    {\n",
    "        Console.WriteLine($\"{Type} растет!\");\n",
    "    }\n",
    "\n",
    "    public virtual void Grow(float growth)\n",
    "    {\n",
    "        if (growth > 0)\n",
    "        {\n",
    "            Height += growth;\n",
    "            Console.WriteLine($\"{Name} вырос на {growth} см. Актуальная высота растения: {Height} см.\");\n",
    "        }\n",
    "    }\n",
    "\n",
    "}\n",
    "\n",
    "Plant myplant = new Plant(\"Алоэ\", \"Комнатный цветок\", 10);\n",
    "myplant.Info(); \n",
    "myplant.Bloom();\n",
    "myplant.Grow(1);\n"
   ]
  }
 ],
 "metadata": {
  "kernelspec": {
   "display_name": ".NET (C#)",
   "language": "C#",
   "name": ".net-csharp"
  },
  "language_info": {
   "name": "python"
  },
  "polyglot_notebook": {
   "kernelInfo": {
    "defaultKernelName": "csharp",
    "items": [
     {
      "aliases": [],
      "name": "csharp"
     }
    ]
   }
  }
 },
 "nbformat": 4,
 "nbformat_minor": 2
}

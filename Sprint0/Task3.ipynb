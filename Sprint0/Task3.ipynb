{
 "cells": [
  {
   "cell_type": "markdown",
   "metadata": {},
   "source": [
    "<h1 style=\"color:DodgerBlue\">Индивидальный проект</h1>"
   ]
  },
  {
   "cell_type": "markdown",
   "metadata": {},
   "source": [
    "<h2 style=\"color:DodgerBlue\">Название проекта:</h2>\n",
    "\n",
    "----\n",
    "\n",
    "### Вариант задания 16\n"
   ]
  },
  {
   "cell_type": "markdown",
   "metadata": {},
   "source": [
    "<h2 style=\"color:DodgerBlue\">Описание проекта:</h2>\n",
    "\n",
    "----\n",
    "\n",
    "Описание задачи:\n",
    "Создать базовый класс PaymentMethod в C#, который будет представлять\n",
    "различные способы оплаты. На основе этого класса разработать 2-3 производных\n",
    "класса, демонстрирующих принципы наследования и полиморфизма. В каждом из\n",
    "классов должны быть реализованы новые атрибуты и методы, а также\n",
    "переопределены некоторые методы базового класса для демонстрации\n",
    "полиморфизма.\n",
    "Требования к базовому классу PaymentMethod:\n",
    "• Атрибуты: ID способа оплаты (PaymentMethodId), Название способа оплаты\n",
    "(MethodName), Минимальная сумма (MinAmount).\n",
    "• Методы:\n",
    "o ProcessPayment(decimal amount): метод для обработки платежа\n",
    "указанной суммы.\n",
    "o CheckMinimumAmount(decimal amount): метод для проверки\n",
    "минимальной суммы платежа.\n",
    "o GetPaymentDetails(): метод для получения деталей способа оплаты.\n",
    "Требования к производным классам:\n",
    "1. ОнлайнОплата (OnlinePayment): Должен содержать дополнительные\n",
    "атрибуты, такие как URL платежной системы (PaymentUrl).\n",
    "Метод ProcessPayment() должен быть переопределен для включения URL\n",
    "платежной системы в процесс оплаты.\n",
    "2. БанковскийПеревод (BankTransfer): Должен содержать дополнительные\n",
    "атрибуты, такие как Банковские данные (BankData).\n",
    "Метод CheckMinimumAmount() должен быть переопределен для проверки\n",
    "минимальной суммы платежа с учетом банковских комиссий.\n",
    "3. Наличные (CashPayment) (если требуется третий класс): Должен содержать\n",
    "дополнительные атрибуты, такие как Место выдачи наличных\n",
    "(CashPickupPoint). Метод GetPaymentDetails() должен быть переопределен\n",
    "для отображения места выдачи наличных"
   ]
  },
  {
   "cell_type": "markdown",
   "metadata": {},
   "source": [
    "<h2 style=\"color:DodgerBlue\">Реализация:</h2>\n",
    "\n",
    "----"
   ]
  },
  {
   "cell_type": "code",
   "execution_count": 2,
   "metadata": {
    "dotnet_interactive": {
     "language": "csharp"
    },
    "polyglot_notebook": {
     "kernelName": "csharp"
    }
   },
   "outputs": [
    {
     "name": "stdout",
     "output_type": "stream",
     "text": [
      "Достаточно средств\n",
      "Детали оплаты: ID: 1, Название способа оплаты: Оплата онлайн, Минимальная сумма: 10000\n",
      "Оплата онлайн в размере 100000 руб., по URL: 83920175848358698 обработан(а).\n",
      "\n",
      "Достаточно средств\n",
      "Детали оплаты: ID: 2, Название способа оплаты: Банковский перевод, Минимальная сумма: 5000\n",
      "Банковский перевод в размере 100000 обработан(а).\n",
      "\n",
      "Достаточно средств\n",
      "Детали оплаты: ID: 3, Название способа оплаты: Оплата наличными, Минимальная сумма: 500, Место выдачи наличных: Софа-Банк\n",
      "Оплата наличными в размере 100000 обработан(а).\n"
     ]
    }
   ],
   "source": [
    "public abstract class PaymentMethod\n",
    "{\n",
    "    public int PaymentMethodId {get;set;}\n",
    "    public string MethodName {get;set;}\n",
    "    public decimal MinAmount {get;set;}\n",
    "    \n",
    "    public virtual void ProcessPayment(decimal amount)\n",
    "    {\n",
    "        Console.WriteLine($\"{MethodName} в размере {amount} обработан(а).\");\n",
    "    }\n",
    "\n",
    "    public virtual void CheckMinimumAmount(decimal amount)\n",
    "    {\n",
    "        if (amount >= MinAmount)\n",
    "        {\n",
    "            Console.WriteLine(\"Достаточно средств\");\n",
    "        }\n",
    "        else{Console.WriteLine(\"Недостаточно средств\");}\n",
    "    }\n",
    "\n",
    "    public virtual void GetPaymentDetails()\n",
    "    {\n",
    "        Console.WriteLine($\"Детали оплаты: ID: {PaymentMethodId}, Название способа оплаты: {MethodName}, Минимальная сумма: {MinAmount}\");\n",
    "    }\n",
    "\n",
    "}\n",
    "\n",
    "class OnlinePayment : PaymentMethod\n",
    "{\n",
    "    public string PaymentUrl {get; set;}\n",
    "    \n",
    "    public OnlinePayment(string paymenturl)\n",
    "    {\n",
    "        PaymentUrl = paymenturl;\n",
    "        this.MethodName = \"Оплата онлайн\";\n",
    "        this.PaymentMethodId = 1;\n",
    "    }\n",
    "    \n",
    "    public override void ProcessPayment(decimal amount)\n",
    "    {\n",
    "        Console.WriteLine($\"{MethodName} в размере {amount} руб., по URL: {PaymentUrl} обработан(а).\");\n",
    "    }\n",
    "}\n",
    "\n",
    "class BankTransfer : PaymentMethod\n",
    "{\n",
    "    public decimal BankData {get; set;}\n",
    "    public BankTransfer(decimal bankdata)\n",
    "    {\n",
    "        BankData = bankdata; \n",
    "        this.MethodName = \"Банковский перевод\";     \n",
    "        this.PaymentMethodId = 2;  \n",
    "    }\n",
    "    public override void CheckMinimumAmount(decimal amount)\n",
    "    {\n",
    "        if (amount >= MinAmount + BankData)\n",
    "        {\n",
    "            Console.WriteLine(\"Достаточно средств\");\n",
    "        }\n",
    "        else{Console.WriteLine(\"Недостаточно средств\");}        \n",
    "    }\n",
    "}\n",
    "\n",
    "class CashPayment : PaymentMethod\n",
    "{\n",
    "    public string CashPickupPoint {get; set;}\n",
    "    public CashPayment(string cashpickuppoint)\n",
    "    {\n",
    "        CashPickupPoint = cashpickuppoint;\n",
    "        this.MethodName = \"Оплата наличными\";\n",
    "        this.PaymentMethodId = 3;\n",
    "    }\n",
    "    public override void GetPaymentDetails()\n",
    "    {\n",
    "        Console.WriteLine($\"Детали оплаты: ID: {PaymentMethodId}, Название способа оплаты: {MethodName}, Минимальная сумма: {MinAmount}, Место выдачи наличных: {CashPickupPoint}\");\n",
    "    }\n",
    "}\n",
    "\n",
    "\n",
    "string URL = \"83920175848358698\";\n",
    "int oplata = 100000;\n",
    "OnlinePayment onlcash = new OnlinePayment(URL);\n",
    "onlcash.MinAmount = 10000;\n",
    "\n",
    "onlcash.CheckMinimumAmount(oplata);\n",
    "onlcash.GetPaymentDetails();\n",
    "onlcash.ProcessPayment(oplata);\n",
    "\n",
    "Console.WriteLine();\n",
    "\n",
    "BankTransfer bankcash = new BankTransfer(120);\n",
    "bankcash.MinAmount = 5000;\n",
    "bankcash.CheckMinimumAmount(oplata);\n",
    "bankcash.GetPaymentDetails();\n",
    "bankcash.ProcessPayment(oplata);\n",
    "\n",
    "Console.WriteLine();\n",
    "\n",
    "\n",
    "\n",
    "CashPayment cash = new CashPayment(\"Софа-Банк\");\n",
    "cash.MinAmount = 500;\n",
    "\n",
    "cash.CheckMinimumAmount(oplata);\n",
    "cash.GetPaymentDetails();\n",
    "cash.ProcessPayment(oplata);"
   ]
  }
 ],
 "metadata": {
  "kernelspec": {
   "display_name": ".NET (C#)",
   "language": "C#",
   "name": ".net-csharp"
  },
  "polyglot_notebook": {
   "kernelInfo": {
    "defaultKernelName": "csharp",
    "items": [
     {
      "aliases": [],
      "languageName": "csharp",
      "name": "csharp"
     }
    ]
   }
  }
 },
 "nbformat": 4,
 "nbformat_minor": 2
}

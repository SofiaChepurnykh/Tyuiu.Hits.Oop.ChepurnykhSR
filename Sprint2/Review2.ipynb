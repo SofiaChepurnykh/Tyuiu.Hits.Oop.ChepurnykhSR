{
 "cells": [
  {
   "cell_type": "code",
   "execution_count": 13,
   "metadata": {
    "vscode": {
     "languageId": "polyglot-notebook"
    }
   },
   "outputs": [
    {
     "name": "stdout",
     "output_type": "stream",
     "text": [
      "Имя сотрудника: Софья, Должность сотрудника: Менеджер, Зарплата сотрудника: 80000 руб.\n",
      "Отдел управления: Отдел продаж\n",
      "\n",
      "Имя сотрудника: Ольга, Должность сотрудника: Проектный менеджер, Зарплата сотрудника: 100000 руб.\n",
      "Отдел управления: Отдел проектирования\n",
      "Название проекта: СофаЛэнд\n",
      "\n",
      "Имя сотрудника: Анна, Должность сотрудника: Проектный менеджер, Зарплата сотрудника: 150000 руб.\n",
      "Отдел управления: Отдел проектирования\n",
      "Название проекта: СофаЛэнд\n",
      "Отчет: Задачи на сегодня выполнены\n",
      "Команда: Григорий, Ольга, Анна\n"
     ]
    }
   ],
   "source": [
    "using System;\n",
    "\n",
    "public class Emploee // сотрудник\n",
    "{\n",
    "    private string Name { get; set; } // имя сотрудника\n",
    "    private string Position { get; set; } // должность сотрудника\n",
    "    private decimal Salary { get; set; } // зарплата сотрудника\n",
    "\n",
    "    public Emploee(string name, string position, decimal salary)\n",
    "    {\n",
    "        Name = name;\n",
    "        Position = position;\n",
    "        Salary = salary;\n",
    "    }\n",
    "\n",
    "    public virtual void PrintInfo() // информация о сотруднике\n",
    "    {\n",
    "        Console.WriteLine($\"Имя сотрудника: {Name}, Должность сотрудника: {Position}, Зарплата сотрудника: {Salary} руб.\");\n",
    "    }\n",
    "}\n",
    "\n",
    "public class Manager : Emploee // менеджер\n",
    "{\n",
    "    public string Department { get; set; } // отдел, которым управляет менеджер\n",
    "\n",
    "    public Manager(string name, string position, decimal salary, string department) : base(name, position, salary)\n",
    "    {\n",
    "        Department = department;\n",
    "    }\n",
    "\n",
    "    public override void PrintInfo()\n",
    "    {\n",
    "        base.PrintInfo();\n",
    "        Console.WriteLine($\"Отдел управления: {Department}\");\n",
    "    }\n",
    "}\n",
    "\n",
    "public class ProjectManager : Manager // проектный менеджер\n",
    "{\n",
    "    public string ProjectName { get; set; } // название проекта\n",
    "\n",
    "    public ProjectManager(string name, string position, decimal salary, string department, string projectName) \n",
    "        : base(name, position, salary, department)\n",
    "    {\n",
    "        ProjectName = projectName;\n",
    "    }\n",
    "\n",
    "    public override void PrintInfo()\n",
    "    {\n",
    "        base.PrintInfo();\n",
    "        Console.WriteLine($\"Название проекта: {ProjectName}\");\n",
    "    }\n",
    "}\n",
    "\n",
    "public interface IReportable\n",
    "{\n",
    "    string Report { get; set; }\n",
    "    void GenerateReport(); // отчет\n",
    "}\n",
    "\n",
    "public interface ITeamLeader\n",
    "{ \n",
    "    string Team { get; set; } \n",
    "    void GetTeamMembers(); // список команды\n",
    "}\n",
    "\n",
    "public class SuperProjectManager : ProjectManager, IReportable, ITeamLeader // супер проектный менеджер\n",
    "{\n",
    "    public string Report { get; set; } // отчет\n",
    "    public string Team { get; set; } // команда\n",
    "\n",
    "    public SuperProjectManager(string name, string position, decimal salary, string department, string projectName, string report, string team) \n",
    "        : base(name, position, salary, department, projectName)\n",
    "    {\n",
    "        Report = report;\n",
    "        Team = team;\n",
    "    }\n",
    "\n",
    "    public override void PrintInfo()\n",
    "    {\n",
    "        base.PrintInfo();\n",
    "    }\n",
    "\n",
    "    public void GenerateReport()\n",
    "    {\n",
    "        Console.WriteLine($\"Отчет: {Report}\");\n",
    "    }\n",
    "\n",
    "    public void GetTeamMembers()\n",
    "    {\n",
    "        Console.WriteLine($\"Команда: {Team}\");\n",
    "    }\n",
    "}\n",
    "\n",
    "Manager myManager = new Manager(\"Софья\", \"Менеджер\", 80000, \"Отдел продаж\");\n",
    "myManager.PrintInfo(); \n",
    "Console.WriteLine();\n",
    "\n",
    "ProjectManager myProjectManager = new ProjectManager(\"Ольга\", \"Проектный менеджер\", 100000, \"Отдел проектирования\", \"СофаЛэнд\");\n",
    "myProjectManager.PrintInfo(); \n",
    "Console.WriteLine();\n",
    "\n",
    "SuperProjectManager mySuperProjectManager = new SuperProjectManager(\"Анна\", \"Проектный менеджер\", 150000, \"Отдел проектирования\", \"СофаЛэнд\", \"Задачи на сегодня выполнены\", \"Григорий, Ольга, Анна\");\n",
    "mySuperProjectManager.PrintInfo();\n",
    "mySuperProjectManager.GenerateReport();\n",
    "mySuperProjectManager.GetTeamMembers();\n"
   ]
  }
 ],
 "metadata": {
  "kernelspec": {
   "display_name": ".NET (C#)",
   "language": "C#",
   "name": ".net-csharp"
  },
  "language_info": {
   "name": "python"
  },
  "polyglot_notebook": {
   "kernelInfo": {
    "defaultKernelName": "csharp",
    "items": [
     {
      "aliases": [],
      "name": "csharp"
     }
    ]
   }
  }
 },
 "nbformat": 4,
 "nbformat_minor": 2
}

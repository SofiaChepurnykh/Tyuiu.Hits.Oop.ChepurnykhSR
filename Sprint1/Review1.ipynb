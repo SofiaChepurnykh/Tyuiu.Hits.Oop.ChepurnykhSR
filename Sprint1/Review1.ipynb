{
 "cells": [
  {
   "cell_type": "code",
   "execution_count": 1,
   "metadata": {
    "dotnet_interactive": {
     "language": "csharp"
    },
    "polyglot_notebook": {
     "kernelName": "csharp"
    },
    "vscode": {
     "languageId": "polyglot-notebook"
    }
   },
   "outputs": [
    {
     "name": "stdout",
     "output_type": "stream",
     "text": [
      "Product: Milk, Price: 65, Quantity: 10, Category: Dairy products', Descripion: Milk 2.5%\n",
      "Product: Milk, Price: 65, Quantity: 15, Category: Dairy products', Descripion: Milk 2.5%\n",
      "Total price: 975\n",
      "Seller: Sofa, Employee ID: A8928, Salary: 80000, contactInfo: winxsofa@bk.ru\n",
      "Added product: Bread, Prices: 35， Quantity: 10\n",
      "Sold 2 Breads\n",
      "Store Name: WinxSofa, Location: Shopping center Crystal, Hours work: 11\n",
      "Seller: Danil, Employee ID: A8927, Salary: 50000, contactInfo: danil@gmail.com\n",
      "Store Name: WinxSofa, Location: Shopping center Crystal, Hours work: 11\n"
     ]
    }
   ],
   "source": [
    "using System;\n",
    "\n",
    "public class Product\n",
    "{\n",
    "    private string Name {get; set;}\n",
    "    private decimal Price {get; set;}\n",
    "    private int Quantity {get; set;}\n",
    "    private string Category {get; set;}\n",
    "    private string Description {get; set;}\n",
    "\n",
    "    public Product(string name, decimal price, int quantity, string category, string description)\n",
    "    {\n",
    "        Name=name;\n",
    "        Price=price;\n",
    "        Quantity=quantity;\n",
    "        Category=category;\n",
    "        Description=description;\n",
    "    }\n",
    "\n",
    "    public decimal GetTotalPrice()\n",
    "    {\n",
    "        return Price * Quantity;\n",
    "    }\n",
    "\n",
    "    public void UpdateQuantity (int amount)\n",
    "    {\n",
    "        Quantity += amount;\n",
    "    }\n",
    "\n",
    "    public string GetProductInfo ()\n",
    "    {\n",
    "        return $\"Product: {Name}, Price: {Price}, Quantity: {Quantity}, Category: {Category}, Descripion: {Description}\";\n",
    "    }\n",
    "}\n",
    "\n",
    "public class Seller\n",
    "{\n",
    "    private string Name {get; set;}\n",
    "    private string EmployeeID {get; set;}\n",
    "    protected decimal Salary {get; set;}\n",
    "    internal string ContactInfo {get; set;}\n",
    "    \n",
    "    public Seller (string name, string employeeID, decimal salary, string contactInfo)\n",
    "    {\n",
    "        Name = name;\n",
    "        EmployeeID = employeeID;\n",
    "        Salary = salary;\n",
    "        ContactInfo = contactInfo;\n",
    "    }\n",
    "\n",
    "    public void AddProduct (string productName, decimal price, int quantity)\n",
    "    {\n",
    "        Console.WriteLine($\"Added product: {productName}, Prices: {price}， Quantity: {quantity}\");\n",
    "    }\n",
    "\n",
    "    public void SellProduct (string productName, int quantity)\n",
    "    {\n",
    "        Console.WriteLine ($\"Sold {quantity} {productName}s\");\n",
    "    }\n",
    "    public string GetSellerInfo()\n",
    "    {\n",
    "        return $\"Seller: {Name}, Employee ID: {EmployeeID}, Salary: {Salary}, contactInfo: {ContactInfo}\";\n",
    "    }\n",
    "}\n",
    "\n",
    "public class Store\n",
    "{\n",
    "    private string storeName;\n",
    "    private string location;\n",
    "    public string storeHours;\n",
    "\n",
    "    public Store(string storeName, string location, string storeHours)\n",
    "    {\n",
    "        this.storeName = storeName;\n",
    "        this.location = location;\n",
    "        this.storeHours = storeHours;\n",
    "    }\n",
    "\n",
    "    private List<Seller> sellers = new List<Seller>();\n",
    "\n",
    "    public void AddSeller(Seller seller)\n",
    "    {\n",
    "        sellers.Add(seller);\n",
    "    }\n",
    "\n",
    "    public void ListProducts()\n",
    "    {\n",
    "        foreach (var seller in sellers)\n",
    "        {\n",
    "            Console.WriteLine(seller.GetSellerInfo());\n",
    "        }\n",
    "    }\n",
    "\n",
    "    public string GetStoreInfo()\n",
    "    {\n",
    "        return $\"Store Name: {storeName}, Location: {location}, Hours work: {storeHours}\";\n",
    "    }\n",
    "}\n",
    "\n",
    "Product product1 = new Product (\"Milk\", 65, 10, \"Dairy products'\", \"Milk 2.5%\");\n",
    "Console.WriteLine (product1.GetProductInfo());\n",
    "product1.UpdateQuantity(5);\n",
    "Console.WriteLine(product1.GetProductInfo());\n",
    "decimal totalCost = product1.GetTotalPrice();\n",
    "Console.WriteLine ($\"Total price: {totalCost}\");\n",
    "\n",
    "Seller seller = new Seller (\"Sofa\", \"A8928\", 80000, \"winxsofa@bk.ru\");\n",
    "Console.WriteLine (seller.GetSellerInfo());\n",
    "\n",
    "seller.AddProduct (\"Bread\", 35, 10);\n",
    "seller.SellProduct (\"Bread\", 2);\n",
    "\n",
    "Store store = new Store (\"WinxSofa\", \"Shopping center Crystal\", \"11\");\n",
    "Console.WriteLine(store.GetStoreInfo());\n",
    "store.ListProducts();\n",
    "\n",
    "Seller seller2 = new Seller(\"Danil\", \"A8927\", 50000, \"danil@gmail.com\");\n",
    "Console.WriteLine(seller2.GetSellerInfo());\n",
    "store.AddSeller(seller2);\n",
    "Console.WriteLine(store.GetStoreInfo());\n"
   ]
  }
 ],
 "metadata": {
  "kernelspec": {
   "display_name": ".NET (C#)",
   "language": "C#",
   "name": ".net-csharp"
  },
  "language_info": {
   "name": "python"
  },
  "polyglot_notebook": {
   "kernelInfo": {
    "defaultKernelName": "csharp",
    "items": [
     {
      "aliases": [],
      "name": "csharp"
     }
    ]
   }
  }
 },
 "nbformat": 4,
 "nbformat_minor": 2
}
